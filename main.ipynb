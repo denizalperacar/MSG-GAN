{
  "nbformat": 4,
  "nbformat_minor": 5,
  "metadata": {
    "kernelspec": {
      "display_name": "Python 3",
      "language": "python",
      "name": "python3"
    },
    "language_info": {
      "codemirror_mode": {
        "name": "ipython",
        "version": 3
      },
      "file_extension": ".py",
      "mimetype": "text/x-python",
      "name": "python",
      "nbconvert_exporter": "python",
      "pygments_lexer": "ipython3",
      "version": "3.8.8"
    },
    "colab": {
      "name": "main.ipynb",
      "provenance": [],
      "collapsed_sections": [],
      "toc_visible": true
    },
    "accelerator": "GPU",
    "widgets": {
      "application/vnd.jupyter.widget-state+json": {
        "f824d84f39d140378bb4d45e2e968d37": {
          "model_module": "@jupyter-widgets/controls",
          "model_name": "HBoxModel",
          "state": {
            "_view_name": "HBoxView",
            "_dom_classes": [],
            "_model_name": "HBoxModel",
            "_view_module": "@jupyter-widgets/controls",
            "_model_module_version": "1.5.0",
            "_view_count": null,
            "_view_module_version": "1.5.0",
            "box_style": "",
            "layout": "IPY_MODEL_73384da8f9ac46d69b6289f631626b6c",
            "_model_module": "@jupyter-widgets/controls",
            "children": [
              "IPY_MODEL_c4ff624891c2423ab8a21ca54cc5c1f9",
              "IPY_MODEL_13c5152bbf994b3eb941b4ea578519a3"
            ]
          }
        },
        "73384da8f9ac46d69b6289f631626b6c": {
          "model_module": "@jupyter-widgets/base",
          "model_name": "LayoutModel",
          "state": {
            "_view_name": "LayoutView",
            "grid_template_rows": null,
            "right": null,
            "justify_content": null,
            "_view_module": "@jupyter-widgets/base",
            "overflow": null,
            "_model_module_version": "1.2.0",
            "_view_count": null,
            "flex_flow": null,
            "width": null,
            "min_width": null,
            "border": null,
            "align_items": null,
            "bottom": null,
            "_model_module": "@jupyter-widgets/base",
            "top": null,
            "grid_column": null,
            "overflow_y": null,
            "overflow_x": null,
            "grid_auto_flow": null,
            "grid_area": null,
            "grid_template_columns": null,
            "flex": null,
            "_model_name": "LayoutModel",
            "justify_items": null,
            "grid_row": null,
            "max_height": null,
            "align_content": null,
            "visibility": null,
            "align_self": null,
            "height": null,
            "min_height": null,
            "padding": null,
            "grid_auto_rows": null,
            "grid_gap": null,
            "max_width": null,
            "order": null,
            "_view_module_version": "1.2.0",
            "grid_template_areas": null,
            "object_position": null,
            "object_fit": null,
            "grid_auto_columns": null,
            "margin": null,
            "display": null,
            "left": null
          }
        },
        "c4ff624891c2423ab8a21ca54cc5c1f9": {
          "model_module": "@jupyter-widgets/controls",
          "model_name": "FloatProgressModel",
          "state": {
            "_view_name": "ProgressView",
            "style": "IPY_MODEL_5f61436163e84620aaea9f7c9909310b",
            "_dom_classes": [],
            "description": "",
            "_model_name": "FloatProgressModel",
            "bar_style": "success",
            "max": 170498071,
            "_view_module": "@jupyter-widgets/controls",
            "_model_module_version": "1.5.0",
            "value": 170498071,
            "_view_count": null,
            "_view_module_version": "1.5.0",
            "orientation": "horizontal",
            "min": 0,
            "description_tooltip": null,
            "_model_module": "@jupyter-widgets/controls",
            "layout": "IPY_MODEL_2b6aa4f962cc4b168af9bf81ed121ff5"
          }
        },
        "13c5152bbf994b3eb941b4ea578519a3": {
          "model_module": "@jupyter-widgets/controls",
          "model_name": "HTMLModel",
          "state": {
            "_view_name": "HTMLView",
            "style": "IPY_MODEL_9b09da5586fc49fe98d829dc1ceeb49e",
            "_dom_classes": [],
            "description": "",
            "_model_name": "HTMLModel",
            "placeholder": "​",
            "_view_module": "@jupyter-widgets/controls",
            "_model_module_version": "1.5.0",
            "value": " 170499072/? [00:07&lt;00:00, 23803577.89it/s]",
            "_view_count": null,
            "_view_module_version": "1.5.0",
            "description_tooltip": null,
            "_model_module": "@jupyter-widgets/controls",
            "layout": "IPY_MODEL_04241b97491f43f8a6017963bbbe23bc"
          }
        },
        "5f61436163e84620aaea9f7c9909310b": {
          "model_module": "@jupyter-widgets/controls",
          "model_name": "ProgressStyleModel",
          "state": {
            "_view_name": "StyleView",
            "_model_name": "ProgressStyleModel",
            "description_width": "initial",
            "_view_module": "@jupyter-widgets/base",
            "_model_module_version": "1.5.0",
            "_view_count": null,
            "_view_module_version": "1.2.0",
            "bar_color": null,
            "_model_module": "@jupyter-widgets/controls"
          }
        },
        "2b6aa4f962cc4b168af9bf81ed121ff5": {
          "model_module": "@jupyter-widgets/base",
          "model_name": "LayoutModel",
          "state": {
            "_view_name": "LayoutView",
            "grid_template_rows": null,
            "right": null,
            "justify_content": null,
            "_view_module": "@jupyter-widgets/base",
            "overflow": null,
            "_model_module_version": "1.2.0",
            "_view_count": null,
            "flex_flow": null,
            "width": null,
            "min_width": null,
            "border": null,
            "align_items": null,
            "bottom": null,
            "_model_module": "@jupyter-widgets/base",
            "top": null,
            "grid_column": null,
            "overflow_y": null,
            "overflow_x": null,
            "grid_auto_flow": null,
            "grid_area": null,
            "grid_template_columns": null,
            "flex": null,
            "_model_name": "LayoutModel",
            "justify_items": null,
            "grid_row": null,
            "max_height": null,
            "align_content": null,
            "visibility": null,
            "align_self": null,
            "height": null,
            "min_height": null,
            "padding": null,
            "grid_auto_rows": null,
            "grid_gap": null,
            "max_width": null,
            "order": null,
            "_view_module_version": "1.2.0",
            "grid_template_areas": null,
            "object_position": null,
            "object_fit": null,
            "grid_auto_columns": null,
            "margin": null,
            "display": null,
            "left": null
          }
        },
        "9b09da5586fc49fe98d829dc1ceeb49e": {
          "model_module": "@jupyter-widgets/controls",
          "model_name": "DescriptionStyleModel",
          "state": {
            "_view_name": "StyleView",
            "_model_name": "DescriptionStyleModel",
            "description_width": "",
            "_view_module": "@jupyter-widgets/base",
            "_model_module_version": "1.5.0",
            "_view_count": null,
            "_view_module_version": "1.2.0",
            "_model_module": "@jupyter-widgets/controls"
          }
        },
        "04241b97491f43f8a6017963bbbe23bc": {
          "model_module": "@jupyter-widgets/base",
          "model_name": "LayoutModel",
          "state": {
            "_view_name": "LayoutView",
            "grid_template_rows": null,
            "right": null,
            "justify_content": null,
            "_view_module": "@jupyter-widgets/base",
            "overflow": null,
            "_model_module_version": "1.2.0",
            "_view_count": null,
            "flex_flow": null,
            "width": null,
            "min_width": null,
            "border": null,
            "align_items": null,
            "bottom": null,
            "_model_module": "@jupyter-widgets/base",
            "top": null,
            "grid_column": null,
            "overflow_y": null,
            "overflow_x": null,
            "grid_auto_flow": null,
            "grid_area": null,
            "grid_template_columns": null,
            "flex": null,
            "_model_name": "LayoutModel",
            "justify_items": null,
            "grid_row": null,
            "max_height": null,
            "align_content": null,
            "visibility": null,
            "align_self": null,
            "height": null,
            "min_height": null,
            "padding": null,
            "grid_auto_rows": null,
            "grid_gap": null,
            "max_width": null,
            "order": null,
            "_view_module_version": "1.2.0",
            "grid_template_areas": null,
            "object_position": null,
            "object_fit": null,
            "grid_auto_columns": null,
            "margin": null,
            "display": null,
            "left": null
          }
        },
        "15aeed9a42e64342b0ac8989d6bb1c00": {
          "model_module": "@jupyter-widgets/controls",
          "model_name": "HBoxModel",
          "state": {
            "_view_name": "HBoxView",
            "_dom_classes": [],
            "_model_name": "HBoxModel",
            "_view_module": "@jupyter-widgets/controls",
            "_model_module_version": "1.5.0",
            "_view_count": null,
            "_view_module_version": "1.5.0",
            "box_style": "",
            "layout": "IPY_MODEL_d3fc143968304173a9a125470edd54e7",
            "_model_module": "@jupyter-widgets/controls",
            "children": [
              "IPY_MODEL_26e37911f78f43dd86becb00d2ac9163",
              "IPY_MODEL_3d04856306ea4eca96b810298dad7da2"
            ]
          }
        },
        "d3fc143968304173a9a125470edd54e7": {
          "model_module": "@jupyter-widgets/base",
          "model_name": "LayoutModel",
          "state": {
            "_view_name": "LayoutView",
            "grid_template_rows": null,
            "right": null,
            "justify_content": null,
            "_view_module": "@jupyter-widgets/base",
            "overflow": null,
            "_model_module_version": "1.2.0",
            "_view_count": null,
            "flex_flow": null,
            "width": null,
            "min_width": null,
            "border": null,
            "align_items": null,
            "bottom": null,
            "_model_module": "@jupyter-widgets/base",
            "top": null,
            "grid_column": null,
            "overflow_y": null,
            "overflow_x": null,
            "grid_auto_flow": null,
            "grid_area": null,
            "grid_template_columns": null,
            "flex": null,
            "_model_name": "LayoutModel",
            "justify_items": null,
            "grid_row": null,
            "max_height": null,
            "align_content": null,
            "visibility": null,
            "align_self": null,
            "height": null,
            "min_height": null,
            "padding": null,
            "grid_auto_rows": null,
            "grid_gap": null,
            "max_width": null,
            "order": null,
            "_view_module_version": "1.2.0",
            "grid_template_areas": null,
            "object_position": null,
            "object_fit": null,
            "grid_auto_columns": null,
            "margin": null,
            "display": null,
            "left": null
          }
        },
        "26e37911f78f43dd86becb00d2ac9163": {
          "model_module": "@jupyter-widgets/controls",
          "model_name": "FloatProgressModel",
          "state": {
            "_view_name": "ProgressView",
            "style": "IPY_MODEL_5a7b56bcf27c49e48f1e4c7fbc7d7b6e",
            "_dom_classes": [],
            "description": "100%",
            "_model_name": "FloatProgressModel",
            "bar_style": "success",
            "max": 108857766,
            "_view_module": "@jupyter-widgets/controls",
            "_model_module_version": "1.5.0",
            "value": 108857766,
            "_view_count": null,
            "_view_module_version": "1.5.0",
            "orientation": "horizontal",
            "min": 0,
            "description_tooltip": null,
            "_model_module": "@jupyter-widgets/controls",
            "layout": "IPY_MODEL_de22afa01612460f811c203a55a743f4"
          }
        },
        "3d04856306ea4eca96b810298dad7da2": {
          "model_module": "@jupyter-widgets/controls",
          "model_name": "HTMLModel",
          "state": {
            "_view_name": "HTMLView",
            "style": "IPY_MODEL_1e713669887b4eac8c07e13f7f340360",
            "_dom_classes": [],
            "description": "",
            "_model_name": "HTMLModel",
            "placeholder": "​",
            "_view_module": "@jupyter-widgets/controls",
            "_model_module_version": "1.5.0",
            "value": " 104M/104M [00:00&lt;00:00, 167MB/s]",
            "_view_count": null,
            "_view_module_version": "1.5.0",
            "description_tooltip": null,
            "_model_module": "@jupyter-widgets/controls",
            "layout": "IPY_MODEL_c72157e8af3844c5a7370e7791bdc2fe"
          }
        },
        "5a7b56bcf27c49e48f1e4c7fbc7d7b6e": {
          "model_module": "@jupyter-widgets/controls",
          "model_name": "ProgressStyleModel",
          "state": {
            "_view_name": "StyleView",
            "_model_name": "ProgressStyleModel",
            "description_width": "initial",
            "_view_module": "@jupyter-widgets/base",
            "_model_module_version": "1.5.0",
            "_view_count": null,
            "_view_module_version": "1.2.0",
            "bar_color": null,
            "_model_module": "@jupyter-widgets/controls"
          }
        },
        "de22afa01612460f811c203a55a743f4": {
          "model_module": "@jupyter-widgets/base",
          "model_name": "LayoutModel",
          "state": {
            "_view_name": "LayoutView",
            "grid_template_rows": null,
            "right": null,
            "justify_content": null,
            "_view_module": "@jupyter-widgets/base",
            "overflow": null,
            "_model_module_version": "1.2.0",
            "_view_count": null,
            "flex_flow": null,
            "width": null,
            "min_width": null,
            "border": null,
            "align_items": null,
            "bottom": null,
            "_model_module": "@jupyter-widgets/base",
            "top": null,
            "grid_column": null,
            "overflow_y": null,
            "overflow_x": null,
            "grid_auto_flow": null,
            "grid_area": null,
            "grid_template_columns": null,
            "flex": null,
            "_model_name": "LayoutModel",
            "justify_items": null,
            "grid_row": null,
            "max_height": null,
            "align_content": null,
            "visibility": null,
            "align_self": null,
            "height": null,
            "min_height": null,
            "padding": null,
            "grid_auto_rows": null,
            "grid_gap": null,
            "max_width": null,
            "order": null,
            "_view_module_version": "1.2.0",
            "grid_template_areas": null,
            "object_position": null,
            "object_fit": null,
            "grid_auto_columns": null,
            "margin": null,
            "display": null,
            "left": null
          }
        },
        "1e713669887b4eac8c07e13f7f340360": {
          "model_module": "@jupyter-widgets/controls",
          "model_name": "DescriptionStyleModel",
          "state": {
            "_view_name": "StyleView",
            "_model_name": "DescriptionStyleModel",
            "description_width": "",
            "_view_module": "@jupyter-widgets/base",
            "_model_module_version": "1.5.0",
            "_view_count": null,
            "_view_module_version": "1.2.0",
            "_model_module": "@jupyter-widgets/controls"
          }
        },
        "c72157e8af3844c5a7370e7791bdc2fe": {
          "model_module": "@jupyter-widgets/base",
          "model_name": "LayoutModel",
          "state": {
            "_view_name": "LayoutView",
            "grid_template_rows": null,
            "right": null,
            "justify_content": null,
            "_view_module": "@jupyter-widgets/base",
            "overflow": null,
            "_model_module_version": "1.2.0",
            "_view_count": null,
            "flex_flow": null,
            "width": null,
            "min_width": null,
            "border": null,
            "align_items": null,
            "bottom": null,
            "_model_module": "@jupyter-widgets/base",
            "top": null,
            "grid_column": null,
            "overflow_y": null,
            "overflow_x": null,
            "grid_auto_flow": null,
            "grid_area": null,
            "grid_template_columns": null,
            "flex": null,
            "_model_name": "LayoutModel",
            "justify_items": null,
            "grid_row": null,
            "max_height": null,
            "align_content": null,
            "visibility": null,
            "align_self": null,
            "height": null,
            "min_height": null,
            "padding": null,
            "grid_auto_rows": null,
            "grid_gap": null,
            "max_width": null,
            "order": null,
            "_view_module_version": "1.2.0",
            "grid_template_areas": null,
            "object_position": null,
            "object_fit": null,
            "grid_auto_columns": null,
            "margin": null,
            "display": null,
            "left": null
          }
        }
      }
    }
  },
  "cells": [
    {
      "cell_type": "markdown",
      "metadata": {
        "id": "2d5dab53"
      },
      "source": [
        "# MSG-GAN: Multi-Scale Gradients for Generative Adversarial Networks\n",
        "https://arxiv.org/pdf/1903.06048.pdf"
      ],
      "id": "2d5dab53"
    },
    {
      "cell_type": "markdown",
      "metadata": {
        "id": "da749da0"
      },
      "source": [
        "Implementation by Deniz A. ACAR, Yavuz DURMAZKESER"
      ],
      "id": "da749da0"
    },
    {
      "cell_type": "markdown",
      "metadata": {
        "id": "72d319e3"
      },
      "source": [
        "<p style=\"text-align: justify\">Here we present the implementation of the Multi-Scale Gradient Generative Adversarial Network (MSG-GAN) a simple but effective technique for addressing GAN training problems. This technique provides a stable approach for high resolution image synthesis, and serves as an alternative to the commonly used progressive growing technique (ProGAN [2] and StyleGAN [3]).</p>\n",
        "\n",
        "The authors claim that `\"MSG-GAN converges stably on a variety of image datasets of different sizes, resolutions and domains, as well as different types of loss functions and architectures, all with the same set of fixed hyperparameters.\"`\n",
        "\n",
        "***\n",
        "\n",
        "### Motivation\n",
        "\n",
        "<p style=\"text-align: justify\">Arjovsky and Bottou [4] pointed out that one of the reasons for the training instability of GANs is due to the\n",
        "passage of random (uninformative) gradients from the discriminator to the generator when there is insubstantial overlap between the supports of the real and fake distributions.</p>\n",
        "\n",
        "<p style=\"text-align: justify\">Peng et al. [5] proposed a mutual information bottleneck between input images and the discriminator’s deepest representation of those input images called the variational discriminator bottleneck (VDB) [6], and Karras et al.[7] proposed a progressive growing technique to add continually increasing resolution layers. The VDB solution forces the discriminator to focus only on the most discerning features of the images for classification, which can be viewed as an adaptive variant of instance noise. The progressive growing technique tackles the instability problem by training the GAN layer-by-layer by gradually doubling the operating resolution of the generated images. Whenever a new layer is added to the training it is slowly faded in such that the learning of the previous layers are retained. Intuitively, this technique helps with the support overlap problem because it first achieves a good distribution match on lower resolutions, where the data dimensionality is lower, and then partially-initializes (with substantial support overlap between real and fake distributions) higher resolution training with these previously trained weights, focusing on learning finer details.\n",
        "</p>\n",
        "<p style=\"text-align: justify\">\n",
        "While this approach is able to generate state-of-the-art results, it can be hard to train, due to the addition of hyperparameters to be tuned per resolution, including different iteration counts, learning rates (which can be different for the Generator and Discriminator [8]) and the fade-in iterations. In addition, a concurrent submission [9] discovered that it leads to phase artifacts where certain generated features are attached to specific spatial locations. Hence the main motivation in this paper lies in addressing these problems by providing a simpler alternative that leads to high quality results and stable training.\n",
        "</p>\n",
        "\n",
        "\n",
        "\n",
        "The idea behind MSG-GAN is presented below:"
      ],
      "id": "72d319e3"
    },
    {
      "cell_type": "markdown",
      "metadata": {
        "id": "5a5b61b7"
      },
      "source": [
        "<img src=\"doc/schematic_1.png\">"
      ],
      "id": "5a5b61b7"
    },
    {
      "cell_type": "markdown",
      "metadata": {
        "id": "87ea495c"
      },
      "source": [
        "Architecture of MSG-GAN, shown here on the base model proposed in ProGANs which is implemented in this project.\n",
        "\n",
        "***\n",
        "\n",
        "### Multi-Scale Gradient GAN\n",
        "\n",
        "#### Generator Architecture\n",
        "***\n",
        "Let the initial block of the generator function $g_{gen} = A_{begin}$ where $A_{begin} \\in \\mathbb{R}^{4 \\times4\\times512}$ contains [4x4x512] dimensional activations. Let $g^i$ be a generic function which acts as the basic generator block where in this implementation consists of an upsampling operation followed by two conv layers.\n",
        "\n",
        "<img src=\"doc/generator_eqn.png\" style=\"width: 450px;\">\n",
        "\n",
        "where $c_i$ is the number of channels in the $i^{th}$ intermediate activations of the generator. The full generator is as follows:\n",
        "\n",
        "<img src=\"doc/full_generator.png\" style=\"width: 700px;\">\n",
        "\n",
        "Where $z~\\mathcal{N}(0, \\mathbb{I})$.\n",
        "\n",
        "The generator architecture is presented below:\n",
        "\n",
        "<img src=\"doc/generator_schema.png\" style=\"width: 300px;\">\n",
        "\n",
        "***\n",
        "\n",
        "##### Generator output for different stages\n",
        "\n",
        "The r is defined such that it generates the output RGB at different stages of the generator where its output corresponds to different downsampled versions of the final output image. It is simply a $(1\\times1)$ convolution which converts the intermediate convolutional activation volume into images.\n",
        "\n",
        "<img src=\"doc/toRGB.png\" style=\"width: 500px;\">\n",
        "\n",
        "In other words, $o_i$ is an image synthesized from the output of the $i^{th}$ intermediate layer of the generator $a_i$ similar to the idea behind progressive growing.\n",
        "\n",
        "***\n",
        "\n",
        "#### Discriminator Architecture\n",
        "\n",
        "Because the discriminator’s final critic loss is a function of not only the final output of the generator y', but also the intermediate outputs $o_i$, gradients can flow from the intermediate layersof the discriminator to the intermediate layers of the generator.\n",
        "\n",
        "Here all components of the the discriminator are denoted by `\"d\"`. \n",
        "The final layer of the discriminator is called $d_{critic}(z')$ and the function which defines the first layer of the discriminator is denoted by $d^0(y)$ or $d^0(y)$ taking the real image y (true sample) or the highest resolution synthesized image y' (fake sample) as the input. \n",
        "\n",
        "Similarly, let $d^j$ represent the intermediate layer function of the discriminator. Note that i and j are always related to each other as j = k−i. Thus, the output activation volume $a'_j$ of any $j^{th}$ intermediate layer of the discriminator is defined as:\n",
        "\n",
        "<img src=\"doc/disc_eqn.png\" style=\"width: 450px;\">\n",
        "\n",
        "where $\\phi$ is a function used to combine the output oi of the $i^{th}$ intermediate layer of the generator (or correspondingly downsampled version of the highest resolution real image y) with the corresponding output of the (j − 1)th intermediate layer in the discriminator.\n",
        "\n",
        "There are three different varients of the $\\phi$ which are as follows:\n",
        "\n",
        "<img src=\"doc/phi.png\" style=\"width: 400px;\">\n",
        "\n",
        "where, r' is yet another (1x1) convolution operation similar to r and [;] is a simple channelwise concatenation operation.\n",
        "\n",
        "The full discriminator is as follows:\n",
        "\n",
        "<img src=\"doc/discriminator_full.png\" style=\"width: 700px;\">\n",
        "\n",
        "The discriminator architecture is represented below:\n",
        "\n",
        "<img src=\"doc/disc_architecture.png\">\n",
        "\n",
        "***\n",
        "\n",
        "#### Loss Function\n",
        "\n",
        "<p style=\"text-align: justify\">They used two different loss functions for the $d_{critic}$ function namely, WGAN-GP [10] which wasused by ProGAN [2] and Non-saturating GAN loss with 1-sided GP [11] which was used by StyleGAN [3]. One thing to note that is the fact that the discriminator is now a function of multiple input images generated by the generator, thus gradient penalty is modified to be the average of the penalties over each input."
      ],
      "id": "87ea495c"
    },
    {
      "cell_type": "markdown",
      "metadata": {
        "id": "fef7b177"
      },
      "source": [
        "***\n",
        "### Implementation Notes\n",
        "\n",
        "There two different architectures discussed in the paper in accordance with the technique presented here. We have selected ProGANs based architecture to implement for the course project which was also in accordance with our selected qualitative and quantitative results. We have consulted with the instructor of the course and decided to focus on the aforementioned architecture. As the loss function of ProGANs is WGAN-GP is implemented here.    "
      ],
      "id": "fef7b177"
    },
    {
      "cell_type": "markdown",
      "metadata": {
        "id": "aP_CZYoCqXtH"
      },
      "source": [
        "#Quantitative Results\n",
        "\n",
        "We aimed to reproduce the results in Table 3, which is in page 8, of the paper, as quantitative results. Results published by the authors are given in the figure below.\n",
        "\n",
        "<img src=\"doc/table3.png\">"
      ],
      "id": "aP_CZYoCqXtH"
    },
    {
      "cell_type": "markdown",
      "metadata": {
        "id": "SoXdpUihtsh5"
      },
      "source": [
        "## Testing Inception Score Implementation"
      ],
      "id": "SoXdpUihtsh5"
    },
    {
      "cell_type": "code",
      "metadata": {
        "colab": {
          "base_uri": "https://localhost:8080/",
          "height": 235,
          "referenced_widgets": [
            "f824d84f39d140378bb4d45e2e968d37",
            "73384da8f9ac46d69b6289f631626b6c",
            "c4ff624891c2423ab8a21ca54cc5c1f9",
            "13c5152bbf994b3eb941b4ea578519a3",
            "5f61436163e84620aaea9f7c9909310b",
            "2b6aa4f962cc4b168af9bf81ed121ff5",
            "9b09da5586fc49fe98d829dc1ceeb49e",
            "04241b97491f43f8a6017963bbbe23bc",
            "15aeed9a42e64342b0ac8989d6bb1c00",
            "d3fc143968304173a9a125470edd54e7",
            "26e37911f78f43dd86becb00d2ac9163",
            "3d04856306ea4eca96b810298dad7da2",
            "5a7b56bcf27c49e48f1e4c7fbc7d7b6e",
            "de22afa01612460f811c203a55a743f4",
            "1e713669887b4eac8c07e13f7f340360",
            "c72157e8af3844c5a7370e7791bdc2fe"
          ]
        },
        "id": "f0d396ba",
        "outputId": "5920c069-f218-45c0-ab48-9df751fce5ce"
      },
      "source": [
        "from src.inception_score import Inception_Score\n",
        "from src.data_loader import DataLoader\n",
        "import torch\n",
        "\n",
        "# load real cifar10 images\n",
        "cifar_dataloader = DataLoader(\"CIFAR10\", batch_size=60000, num_blocks=4, device='cuda')\n",
        "cifar_images = cifar_dataloader.load_images()[3]\n",
        "\n",
        "# initialize inception scorer\n",
        "IS = Inception_Score('cuda')\n",
        "\n",
        "# compute inception score\n",
        "real_images_std, real_images_mean = IS(cifar_images)\n",
        "\n",
        "print(\"Inception Score of Real CIFAR10 Images (Results in First Row of Table 3): \")\n",
        "print(\"\\tmean=%.2f, std=%.2f\" % (real_images_mean, real_images_std))"
      ],
      "id": "f0d396ba",
      "execution_count": null,
      "outputs": [
        {
          "output_type": "stream",
          "text": [
            "Downloading https://www.cs.toronto.edu/~kriz/cifar-10-python.tar.gz to data/cifar-10-python.tar.gz\n"
          ],
          "name": "stdout"
        },
        {
          "output_type": "display_data",
          "data": {
            "application/vnd.jupyter.widget-view+json": {
              "model_id": "f824d84f39d140378bb4d45e2e968d37",
              "version_minor": 0,
              "version_major": 2
            },
            "text/plain": [
              "HBox(children=(FloatProgress(value=0.0, max=170498071.0), HTML(value='')))"
            ]
          },
          "metadata": {
            "tags": []
          }
        },
        {
          "output_type": "stream",
          "text": [
            "\n",
            "Extracting data/cifar-10-python.tar.gz to data/\n",
            "Files already downloaded and verified\n"
          ],
          "name": "stdout"
        },
        {
          "output_type": "stream",
          "text": [
            "Downloading: \"https://download.pytorch.org/models/inception_v3_google-1a9a5a14.pth\" to /root/.cache/torch/hub/checkpoints/inception_v3_google-1a9a5a14.pth\n"
          ],
          "name": "stderr"
        },
        {
          "output_type": "display_data",
          "data": {
            "application/vnd.jupyter.widget-view+json": {
              "model_id": "15aeed9a42e64342b0ac8989d6bb1c00",
              "version_minor": 0,
              "version_major": 2
            },
            "text/plain": [
              "HBox(children=(FloatProgress(value=0.0, max=108857766.0), HTML(value='')))"
            ]
          },
          "metadata": {
            "tags": []
          }
        },
        {
          "output_type": "stream",
          "text": [
            "\n",
            "Inception Score of Real CIFAR10 Images (Results in First Row of Table 3): \n",
            "\tmean=9.45, std=0.13\n"
          ],
          "name": "stdout"
        }
      ]
    },
    {
      "cell_type": "markdown",
      "metadata": {
        "id": "ISTk44QfGmTk"
      },
      "source": [
        "## Inception Scores of Our Models"
      ],
      "id": "ISTk44QfGmTk"
    },
    {
      "cell_type": "code",
      "metadata": {
        "id": "w47Bye-pBO1t"
      },
      "source": [
        "learning_rates = []\n",
        "\n",
        "for lr in learning_rates:\n",
        "    # load model\n",
        "    # generate 50k random images using the model\n",
        "    # give the generated images to IS as a tensor\n",
        "    # print results"
      ],
      "id": "w47Bye-pBO1t",
      "execution_count": null,
      "outputs": []
    }
  ]
}